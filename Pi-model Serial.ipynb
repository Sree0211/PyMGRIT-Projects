{
 "cells": [
  {
   "cell_type": "code",
   "execution_count": 1,
   "metadata": {},
   "outputs": [
    {
     "name": "stderr",
     "output_type": "stream",
     "text": [
      "C:\\Users\\ssahi\\Anaconda3\\lib\\site-packages\\numpy\\_distributor_init.py:32: UserWarning: loaded more than 1 DLL from .libs:\n",
      "C:\\Users\\ssahi\\Anaconda3\\lib\\site-packages\\numpy\\.libs\\libopenblas.TXA6YQSD3GCQQC22GEQ54J2UDCXDXHWN.gfortran-win_amd64.dll\n",
      "C:\\Users\\ssahi\\Anaconda3\\lib\\site-packages\\numpy\\.libs\\libopenblas.WCDJNK7YVMPZQ2ME2ZZHJJRJ3JIKNDB7.gfortran-win_amd64.dll\n",
      "  stacklevel=1)\n"
     ]
    }
   ],
   "source": [
    "import numpy as np\n",
    "import matplotlib.pyplot as plt"
   ]
  },
  {
   "cell_type": "code",
   "execution_count": 2,
   "metadata": {},
   "outputs": [],
   "source": [
    "\"\"\"\n",
    "CIRCUIT TOPOLOGY\n",
    "1-0 voltage source w/ resistance Vs, Rs\n",
    "1-0 capacitor C1\n",
    "1-2 resistor R1\n",
    "2-3 inductor L1\n",
    "3-0 capacitor C2\n",
    "3-0 resistor R2\n",
    "\n",
    "\"\"\" \n",
    "\n",
    "#CONSTANT PARAMETERS\n",
    "#linear elements\n",
    "Vs = 100\n",
    "Rs = 1\n",
    "C1 = 1\n",
    "R1 = 0.2\n",
    "L1 = 1\n",
    "C2 = 1\n",
    "R2 = 5\n",
    "\n",
    "#Simulation parameters\n",
    "dt = 0.1\n",
    "Tstop = 20.1\n",
    "t = np.linspace(dt,Tstop,200)\n",
    "#print(t.shape)\n",
    "\n",
    "#Conductance matrix, source vector, state variables\n",
    "G_BE = np.zeros((3,3))\n",
    "B_BE = np.zeros((1,3))\n",
    "s = (3,len(t))\n",
    "e_BE = np.zeros(s)\n",
    "\n",
    "#Conductance matrix stamp values\n",
    "\n",
    "gVs = 1/Rs\n",
    "gR1 = 1/R1\n",
    "gR2 = 1/R2\n",
    "\n",
    "gC1_BE = C1/dt\n",
    "gC2_BE = C2/dt\n",
    "gL1_BE = dt/L1\n",
    "\n",
    "#Initial values\n",
    "# Backward Euler\n",
    "\n",
    "vC1_BE = [0]\n",
    "iC1_BE = [Vs/Rs]\n",
    "vC2_BE = [0]\n",
    "iC2_BE = [0]\n",
    "iL1_BE = [0]\n",
    "vL1_BE = [0]\n",
    "\n",
    "# Constant source vector stamps\n",
    "bVs = Vs/Rs\n",
    "bR1 = 0\n",
    "bR2 = 0"
   ]
  },
  {
   "cell_type": "code",
   "execution_count": 3,
   "metadata": {},
   "outputs": [],
   "source": [
    "# setup conductance matrix\n",
    "G_BE = np.matrix([ [gVs+gC1_BE+gR1,-gR1,0],[-gR1,gR1+gL1_BE,-gL1_BE],[0,-gL1_BE,gL1_BE+gC2_BE+gR2 ]])\n",
    "\n",
    "# Simulation loop\n",
    "\n",
    "for i in range(1,len(t)):\n",
    "    \n",
    "  \n",
    "  #BACKWARD EULER\n",
    "  #voltage and current through linear differential elements\n",
    "    vC1_BE.append(e_BE[0,i-1])\n",
    "    iC1_BE.append((C1/dt)*vC1_BE[i] - (C1/dt)*vC1_BE[i-1])\n",
    "    vC2_BE.append(e_BE[2,i-1])\n",
    "    iC2_BE.append((C2/dt)*vC2_BE[i] - (C2/dt)*vC2_BE[i-1])\n",
    "    vL1_BE.append(e_BE[1,i-1] - e_BE[2,i-1])\n",
    "    iL1_BE.append((dt/L1)*vL1_BE[i] + iL1_BE[i-1])\n",
    "  \n",
    "  # non-constant source vector stamp for linear elements\n",
    "  # backward Euler\n",
    "    bC1 = (C1/dt)*vC1_BE[i]\n",
    "    bC2 = (C2/dt)*vC2_BE[i]\n",
    "    bL1 = -iL1_BE[i]\n",
    "\n",
    "  # setup source vector\n",
    "    B_BE = np.array([ [bVs+bC1+bR1],[-bR1+bL1], [-bL1+bC2+bR2 ]])\n",
    "    # To check values\n",
    "    #print(B_BE)\n",
    "  # update number of iterations, new guess for e, and error\n",
    "    e_BE[:,[i]] = G_BE.I*B_BE\n",
    "\n",
    "#vC2_BE = np.array(vC2_BE)\n",
    "#print(vC2_BE.shape)\n",
    "#print(e_BE)"
   ]
  },
  {
   "cell_type": "code",
   "execution_count": 4,
   "metadata": {},
   "outputs": [
    {
     "name": "stderr",
     "output_type": "stream",
     "text": [
      "C:\\Users\\ssahi\\Anaconda3\\lib\\site-packages\\ipykernel_launcher.py:13: MatplotlibDeprecationWarning: Case-insensitive properties were deprecated in 3.3 and support will be removed two minor releases later\n",
      "  del sys.path[0]\n",
      "C:\\Users\\ssahi\\Anaconda3\\lib\\site-packages\\ipykernel_launcher.py:13: MatplotlibDeprecationWarning: Case-insensitive properties were deprecated in 3.3 and support will be removed two minor releases later\n",
      "  del sys.path[0]\n",
      "C:\\Users\\ssahi\\Anaconda3\\lib\\site-packages\\ipykernel_launcher.py:13: MatplotlibDeprecationWarning: Case-insensitive properties were deprecated in 3.3 and support will be removed two minor releases later\n",
      "  del sys.path[0]\n"
     ]
    },
    {
     "data": {
      "text/plain": [
       "Text(0.5, 1.0, 'Backward Euler')"
      ]
     },
     "execution_count": 4,
     "metadata": {},
     "output_type": "execute_result"
    },
    {
     "data": {
      "image/png": "[encoded data removed]",
      "text/plain": [
       "<Figure size 432x288 with 1 Axes>"
      ]
     },
     "metadata": {
      "needs_background": "light"
     },
     "output_type": "display_data"
    }
   ],
   "source": [
    "# Plots\n",
    "\"\"\"\n",
    "plt.plot(t,iC1_BE,t,iC2_BE,t,iL1_BE,lineWidth=2)\n",
    "plt.grid()\n",
    "plt.legend(['current C1','current C2','current L1'])\n",
    "plt.xlabel('Time[s]')\n",
    "plt.ylabel('Current[A]')\n",
    "plt.title('Backward Euler')\n",
    "\"\"\"\n",
    "\n",
    "# Backward Euler\n",
    "plt.figure\n",
    "plt.plot(t,e_BE[0,:],t,e_BE[1,:],t,e_BE[2,:],lineWidth=2)\n",
    "#plt.plot(t,vC1_BE,t,vC2_BE,t,vL1_BE,lineWidth=2)\n",
    "plt.grid()\n",
    "plt.legend(['Voltage Node 1','Voltage Node 2','Voltage Node 3'])\n",
    "plt.xlabel('Time[s]')\n",
    "plt.ylabel('Amplitude[V]')\n",
    "plt.title('Backward Euler')\n"
   ]
  },
  {
   "cell_type": "code",
   "execution_count": 13,
   "metadata": {},
   "outputs": [
    {
     "data": {
      "text/plain": [
       "[<matplotlib.lines.Line2D at 0x173fd0086a0>,\n",
       " <matplotlib.lines.Line2D at 0x173fd008710>]"
      ]
     },
     "execution_count": 13,
     "metadata": {},
     "output_type": "execute_result"
    },
    {
     "data": {
      "image/png": "[encoded data removed]",
      "text/plain": [
       "<Figure size 432x288 with 1 Axes>"
      ]
     },
     "metadata": {
      "needs_background": "light"
     },
     "output_type": "display_data"
    }
   ],
   "source": [
    "plt.plot(t,iC1_BE,t,vC1_BE)\n",
    "#print(vC1_BE)"
   ]
  },
  {
   "cell_type": "raw",
   "metadata": {},
   "source": [
    "from scipy.sparse import csc_matrix\n",
    "from scipy.sparse.linalg import spsolve\n",
    "A = csc_matrix([[3, 2, 0], [1, -1, 0], [0, 5, 1]], dtype=float)\n",
    "B = csc_matrix([[2], [1],[3]], dtype=float)\n",
    "x = spsolve(A, B)\n",
    "print(np.shape(x))\n",
    "#np.allclose(A.dot(x).toarray(), B.toarray())"
   ]
  },
  {
   "cell_type": "code",
   "execution_count": 5,
   "metadata": {
    "scrolled": false
   },
   "outputs": [
    {
     "data": {
      "text/plain": [
       "array([[ 0.        ,  9.01135857, 17.05598062, 24.16536534, 30.37954485,\n",
       "        35.74594339, 40.31818558, 44.15488062, 47.31840721, 49.87372192,\n",
       "        51.88721107, 53.42560363, 54.55496021, 55.33974998, 55.84202534,\n",
       "        56.12070091, 56.23094136, 56.22366007, 56.14512832, 56.03669294,\n",
       "        55.93459841, 55.86990793, 55.8685166 , 55.95124891, 56.13403168,\n",
       "        56.42813331, 56.84045944, 57.37389526, 58.0276845 , 58.7978355 ,\n",
       "        59.67754502, 60.65763081, 61.72696492, 62.87290001, 64.08168195,\n",
       "        65.3388428 , 66.62956903, 67.93904074, 69.25273864, 70.55671621,\n",
       "        71.83783538, 73.08396503, 74.28414188, 75.42869464, 76.50933229,\n",
       "        77.51919833, 78.452893  , 79.30646613, 80.07738322, 80.76446799,\n",
       "        81.36782441, 81.88874156, 82.32958457, 82.69367485, 82.98516283,\n",
       "        83.20889604, 83.37028555, 83.47517315, 83.52970178, 83.54019114,\n",
       "        83.51302047, 83.45451977, 83.37087095, 83.26801958, 83.15159817,\n",
       "        83.02686118, 82.898632  , 82.77126183, 82.64860017, 82.53397641,\n",
       "        82.43019193, 82.33952205, 82.2637267 , 82.20406919, 82.16134179,\n",
       "        82.13589723, 82.12768503, 82.13629158, 82.1609829 , 82.20074927,\n",
       "        82.25435053, 82.32036143, 82.39721604, 82.48325068, 82.57674464,\n",
       "        82.67595816, 82.77916739, 82.88469574, 82.99094158, 83.09640209,\n",
       "        83.19969308, 83.2995649 , 83.39491445, 83.48479341, 83.56841297,\n",
       "        83.6451451 , 83.71452093, 83.77622619, 83.83009438, 83.87609773,\n",
       "        83.91433649, 83.94502676, 83.96848734, 83.98512579, 83.99542413,\n",
       "        83.99992437, 83.99921427, 83.99391341, 83.98465997, 83.97209821,\n",
       "        83.95686699, 83.9395893 , 83.92086299, 83.90125275, 83.88128333,\n",
       "        83.86143406, 83.84213461, 83.82376205, 83.80663902, 83.79103303,\n",
       "        83.77715682, 83.7651696 , 83.75517918, 83.74724473, 83.74138024,\n",
       "        83.73755842, 83.73571498, 83.73575322, 83.73754876, 83.7409543 ,\n",
       "        83.74580447, 83.75192044, 83.75911444, 83.76719404, 83.77596606,\n",
       "        83.78524021, 83.79483233, 83.80456725, 83.81428117, 83.8238237 ,\n",
       "        83.83305945, 83.84186919, 83.85015063, 83.85781881, 83.86480621,\n",
       "        83.87106241, 83.87655361, 83.88126178, 83.88518369, 83.88832966,\n",
       "        83.8907223 , 83.89239501, 83.8933905 , 83.89375926, 83.89355799,\n",
       "        83.89284809, 83.89169417, 83.89016267, 83.88832051, 83.88623389,\n",
       "        83.88396722, 83.8815821 , 83.87913655, 83.87668425, 83.87427402,\n",
       "        83.87194939, 83.86974827, 83.86770284, 83.86583944, 83.86417863,\n",
       "        83.8627354 , 83.86151931, 83.8605349 , 83.859782  , 83.85925617,\n",
       "        83.85894916, 83.85884942, 83.85894258, 83.85921198, 83.85963914,\n",
       "        83.86020431, 83.8608869 , 83.86166592, 83.86252043, 83.8634299 ,\n",
       "        83.86437453, 83.86533556, 83.86629551, 83.86723838, 83.86814984,\n",
       "        83.86901729, 83.86982999, 83.87057904, 83.87125744, 83.87185998,\n",
       "        83.87238324, 83.87282548, 83.8731865 , 83.87346755, 83.87367114],\n",
       "       [ 0.        ,  8.83634741, 16.55642085, 23.21720786, 28.88381284,\n",
       "        33.62792913, 37.52630708, 40.65924681, 43.10914184, 44.95909574,\n",
       "        46.29163157, 47.18750949, 47.72466539, 47.97727952, 48.01498113,\n",
       "        47.90219222, 47.69761054, 47.45382951, 47.21709048, 47.02716076,\n",
       "        46.91732903, 46.91450855, 47.03943727, 47.3069633 , 47.72640356,\n",
       "        48.30196323, 49.0332036 , 49.91554595, 50.94079987, 52.09770461,\n",
       "        53.37247305, 54.74932856, 56.21102614, 57.73935019, 59.31558222,\n",
       "        60.92093306, 62.53693528, 64.14579231, 65.73068218, 67.27601458,\n",
       "        68.76764082, 70.19301732, 71.54132395, 72.80353909, 73.97247406,\n",
       "        75.04277007, 76.01086095, 76.87490561, 77.63469404, 78.29153113,\n",
       "        78.84810213, 79.30832417, 79.67718749, 79.96059039, 80.16517134,\n",
       "        80.29814167, 80.36712168, 80.37998299, 80.34469938, 80.2692081 ,\n",
       "        80.16128322, 80.02842234, 79.87774749, 79.71592076, 79.54907499,\n",
       "        79.38275943, 79.22190003, 79.07077387, 78.93299689, 78.81152415,\n",
       "        78.70866137, 78.62608668, 78.56488134, 78.52556801, 78.50815534,\n",
       "        78.51218756, 78.53679765, 78.58076297, 78.64256212, 78.72043186,\n",
       "        78.81242317, 78.91645551, 79.03036847, 79.1519701 , 79.27908147,\n",
       "        79.40957685, 79.54141933, 79.67269157, 79.80162157, 79.92660352,\n",
       "        80.04621367, 80.15922152, 80.26459643, 80.36151003, 80.44933467,\n",
       "        80.5276384 , 80.59617676, 80.65488196, 80.70384964, 80.74332399,\n",
       "        80.7736813 , 80.79541265, 80.80910597, 80.81542786, 80.81510563,\n",
       "        80.80890973, 80.79763691, 80.78209438, 80.76308508, 80.74139434,\n",
       "        80.71777795, 80.69295177, 80.66758297, 80.64228283, 80.61760117,\n",
       "        80.59402232, 80.57196264, 80.55176935, 80.53372076, 80.51802765,\n",
       "        80.50483576, 80.4942291 , 80.48623417, 80.48082478, 80.47792731,\n",
       "        80.47742645, 80.4791711 , 80.48298036, 80.48864958, 80.49595626,\n",
       "        80.5046657 , 80.51453646, 80.52532534, 80.53679204, 80.5487033 ,\n",
       "        80.56083655, 80.57298305, 80.58495053, 80.59656523, 80.60767351,\n",
       "        80.61814285, 80.62786251, 80.63674362, 80.64471895, 80.65174224,\n",
       "        80.6577873 , 80.66284673, 80.66693049, 80.67006424, 80.67228755,\n",
       "        80.67365204, 80.67421942, 80.67405958, 80.67324863, 80.67186704,\n",
       "        80.6699979 , 80.66772517, 80.6651322 , 80.66230029, 80.65930744,\n",
       "        80.65622731, 80.65312829, 80.65007275, 80.64711649, 80.64430837,\n",
       "        80.64169   , 80.6392957 , 80.63715255, 80.63528051, 80.63369275,\n",
       "        80.632396  , 80.63139101, 80.63067307, 80.63023259, 80.63005573,\n",
       "        80.63012497, 80.63041983, 80.63091743, 80.63159317, 80.6324213 ,\n",
       "        80.63337552, 80.63442944, 80.63555714, 80.63673355, 80.63793482,\n",
       "        80.63913869, 80.64032472, 80.6414745 , 80.64257181, 80.64360273,\n",
       "        80.64455566, 80.64542138, 80.64619296, 80.64686571, 80.64743705,\n",
       "        80.64790642, 80.64827505, 80.64854585, 80.64872315, 80.64881256],\n",
       "       [ 0.        ,  0.08578978,  0.32898987,  0.78732217,  1.50508645,\n",
       "         2.51381723,  3.83309459,  5.47148185,  7.42756327,  9.69105526,\n",
       "        12.24396569, 15.06177722, 18.11463199, 21.36849727, 24.78629351,\n",
       "        28.32896848, 31.95650381, 35.62884225, 39.30672664, 42.95244385,\n",
       "        46.53046916, 50.00800867, 53.35543954, 56.54664936, 59.55927786,\n",
       "        62.37486559, 64.97891521, 67.36087242, 69.51403405, 71.43539166,\n",
       "        73.12541926, 74.5878141 , 75.82919951, 76.85879845, 77.68808658,\n",
       "        78.3304328 , 78.80073497, 79.11505802, 79.29028064, 79.34375633,\n",
       "        79.29299374, 79.15536038, 78.94781309, 78.68665771, 78.38734002,\n",
       "        78.06426878, 77.73067137, 77.398482  , 77.07826136, 76.77914685,\n",
       "        76.50883136, 76.27356868, 76.07820316, 75.92622097, 75.8198203 ,\n",
       "        75.75999754, 75.74664654, 75.77866826, 75.8540877 , 75.97017571,\n",
       "        76.12357288, 76.31041333, 76.52644613, 76.7671525 , 77.02785695,\n",
       "        77.3038312 , 77.59038939, 77.8829739 , 78.17723092, 78.46907553,\n",
       "        78.7547459 , 79.03084665, 79.29438169, 79.54277675, 79.77389213,\n",
       "        79.98602643, 80.17791189, 80.34870215, 80.49795346, 80.62560016,\n",
       "        80.73192534, 80.81752774, 80.88328581, 80.93031971, 80.95995225,\n",
       "        80.97366951, 80.97308191, 80.95988626, 80.93582967, 80.90267545,\n",
       "        80.86217171, 80.81602294, 80.76586466, 80.71324152, 80.65958889,\n",
       "        80.60621789, 80.55430389, 80.50487844, 80.45882432, 80.41687372,\n",
       "        80.37960914, 80.34746685, 80.32074268, 80.29959966, 80.28407736,\n",
       "        80.27410263, 80.26950128, 80.27001059, 80.27529219, 80.28494522,\n",
       "        80.29851936, 80.31552757, 80.33545841, 80.35778762, 80.38198892,\n",
       "        80.40754391, 80.43395088, 80.46073258, 80.48744286, 80.5136721 ,\n",
       "        80.5390516 , 80.56325672, 80.58600904, 80.60707747, 80.62627837,\n",
       "        80.64347486, 80.65857529, 80.6715311 , 80.68233401, 80.69101278,\n",
       "        80.69762957, 80.70227604, 80.70506921, 80.70614726, 80.70566533,\n",
       "        80.70379134, 80.70070194, 80.69657872, 80.6916046 , 80.68596048,\n",
       "        80.67982234, 80.67335851, 80.66672746, 80.66007588, 80.65353712,\n",
       "        80.64723008, 80.64125835, 80.6357098 , 80.6306564 , 80.62615437,\n",
       "        80.62224461, 80.61895333, 80.61629293, 80.61426299, 80.61285143,\n",
       "        80.61203581, 80.61178462, 80.61205868, 80.61281254, 80.61399585,\n",
       "        80.61555471, 80.61743295, 80.61957338, 80.62191888, 80.62441344,\n",
       "        80.62700307, 80.62963663, 80.63226644, 80.63484893, 80.63734497,\n",
       "        80.63972026, 80.6419455 , 80.64399649, 80.64585411, 80.64750424,\n",
       "        80.64893759, 80.65014939, 80.65113919, 80.65191039, 80.65246991,\n",
       "        80.65282775, 80.65299655, 80.65299111, 80.652828  , 80.65252504,\n",
       "        80.65210094, 80.65157486, 80.65096604, 80.65029345, 80.6495755 ,\n",
       "        80.64882972, 80.64807258, 80.64731923, 80.64658343, 80.64587734,\n",
       "        80.64521152, 80.64459484, 80.64403448, 80.64353596, 80.64310319]])"
      ]
     },
     "execution_count": 5,
     "metadata": {},
     "output_type": "execute_result"
    }
   ],
   "source": [
    "e_BE"
   ]
  },
  {
   "cell_type": "code",
   "execution_count": null,
   "metadata": {},
   "outputs": [],
   "source": []
  }
 ],
 "metadata": {
  "kernelspec": {
   "display_name": "Python 3",
   "language": "python",
   "name": "python3"
  },
  "language_info": {
   "codemirror_mode": {
    "name": "ipython",
    "version": 3
   },
   "file_extension": ".py",
   "mimetype": "text/x-python",
   "name": "python",
   "nbconvert_exporter": "python",
   "pygments_lexer": "ipython3",
   "version": "3.6.4"
  }
 },
 "nbformat": 4,
 "nbformat_minor": 2
}
